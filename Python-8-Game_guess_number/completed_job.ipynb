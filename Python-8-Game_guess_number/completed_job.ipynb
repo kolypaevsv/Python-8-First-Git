{
 "cells": [
  {
   "cell_type": "code",
   "execution_count": 3,
   "metadata": {},
   "outputs": [
    {
     "name": "stdout",
     "output_type": "stream",
     "text": [
      "Загадано число от 0 до 100\n",
      "Ваш алгоритм угадывает число в среднем за 5 попыток\n"
     ]
    },
    {
     "data": {
      "text/plain": [
       "5"
      ]
     },
     "execution_count": 3,
     "metadata": {},
     "output_type": "execute_result"
    }
   ],
   "source": [
    "import numpy as np\n",
    "\n",
    "left_range = 0  # Начало глобального диапазона.\n",
    "right_range = 100  # Окончание глобального диапазона.\n",
    "number = np.random.randint(left_range, right_range+1)  # Искомое число.\n",
    "print (\"Загадано число от\", left_range, \"до\", right_range)\n",
    "\n",
    "\n",
    "def game_core_v3(number):  # Функция поиска выбранного числа.\n",
    "    count = 1\n",
    "    local_left_range = left_range  # Начало локального диапазона.\n",
    "    local_right_range = right_range + 1  # Окончание локального диапазона.\n",
    "    while True:\n",
    "        \"\"\" Использую бинарный поиск и создаю переменную,\n",
    "        которая будет как новой границей диапазона,\n",
    "        так и числом, сравниваемым с искомым.\n",
    "        \"\"\"\n",
    "        predict = (local_left_range + local_right_range)//2\n",
    "        if number == predict: break\n",
    "        count += 1\n",
    "        if number > predict:\n",
    "            local_left_range = predict\n",
    "        elif number < predict:\n",
    "            local_right_range = predict\n",
    "    return(count)\n",
    "\n",
    "\n",
    "def score_game(game_core):\n",
    "    \"\"\"Запускаем игру 1000 раз, чтобы узнать,\n",
    "    как быстро игра угадывает число.\n",
    "    \"\"\"\n",
    "    count_ls = []\n",
    "    np.random.seed(1)  # Фиксируем 'случайное' число!\n",
    "    score_left_range = left_range  # Начало диапазона из 1000 чисел.\n",
    "    score_right_range = right_range + 1  # Окончание диапазона из 1000 чисел.\n",
    "    random_array = np.random.randint(score_left_range, score_right_range, size=(1000))\n",
    "    for number in random_array:\n",
    "        count_ls.append(game_core(number))\n",
    "    score = int(np.mean(count_ls))\n",
    "    print(f\"Ваш алгоритм угадывает число в среднем за {score} попыток\")\n",
    "    return(score)\n",
    "\n",
    "score_game(game_core_v3)\n"
   ]
  }
 ],
 "metadata": {
  "kernelspec": {
   "display_name": "Python 3.9.13 64-bit",
   "language": "python",
   "name": "python3"
  },
  "language_info": {
   "codemirror_mode": {
    "name": "ipython",
    "version": 3
   },
   "file_extension": ".py",
   "mimetype": "text/x-python",
   "name": "python",
   "nbconvert_exporter": "python",
   "pygments_lexer": "ipython3",
   "version": "3.9.13"
  },
  "vscode": {
   "interpreter": {
    "hash": "cb8685f293a60dddebdf64b731a6578becb3e833f5efe407cb6d2889a7009e1b"
   }
  }
 },
 "nbformat": 4,
 "nbformat_minor": 4
}
